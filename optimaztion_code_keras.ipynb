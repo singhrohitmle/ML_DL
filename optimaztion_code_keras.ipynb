{
  "nbformat": 4,
  "nbformat_minor": 0,
  "metadata": {
    "colab": {
      "name": "optimaztion_code_keras.ipynb",
      "provenance": [],
      "collapsed_sections": [],
      "authorship_tag": "ABX9TyPI9VJSNZ09M5B1IlOHZ+Gl",
      "include_colab_link": true
    },
    "kernelspec": {
      "name": "python3",
      "display_name": "Python 3"
    }
  },
  "cells": [
    {
      "cell_type": "markdown",
      "metadata": {
        "id": "view-in-github",
        "colab_type": "text"
      },
      "source": [
        "<a href=\"https://colab.research.google.com/github/singhrohitmle/ML_DL/blob/master/optimaztion_code_keras.ipynb\" target=\"_parent\"><img src=\"https://colab.research.google.com/assets/colab-badge.svg\" alt=\"Open In Colab\"/></a>"
      ]
    },
    {
      "cell_type": "markdown",
      "metadata": {
        "id": "QsmTv6lTCv5g",
        "colab_type": "text"
      },
      "source": [
        "**MLP + Sigmoid activation + SGD Optimizer**"
      ]
    },
    {
      "cell_type": "code",
      "metadata": {
        "id": "T6h9CSVhC_76",
        "colab_type": "code",
        "colab": {}
      },
      "source": [
        "from keras.datasets import mnist\n",
        "from keras.utils import np_utils\n",
        "from keras.models import Sequential\n",
        "from keras.layers import Dense,Activation\n",
        "\n",
        "\n"
      ],
      "execution_count": 30,
      "outputs": []
    },
    {
      "cell_type": "code",
      "metadata": {
        "id": "j_hOxQsfPHic",
        "colab_type": "code",
        "colab": {}
      },
      "source": [
        "(x_train,y_train),(x_test,y_test)= mnist.load_data()\n",
        "x_train = x_train.reshape(x_train.shape[0], x_train.shape[1]*x_train.shape[2]) \n",
        "x_test = x_test.reshape(x_test.shape[0], x_test.shape[1]*x_test.shape[2])\n",
        "x_train = x_train/255\n",
        "x_test = x_test/255\n"
      ],
      "execution_count": 31,
      "outputs": []
    },
    {
      "cell_type": "code",
      "metadata": {
        "id": "mEZ1MG_pg97h",
        "colab_type": "code",
        "colab": {}
      },
      "source": [
        "output_dim = 10\n",
        "input_dim = x_train.shape[1]\n",
        "batch_size = 128\n",
        "nb_epoch = 20"
      ],
      "execution_count": 32,
      "outputs": []
    },
    {
      "cell_type": "code",
      "metadata": {
        "id": "QrN3BTUOkOEW",
        "colab_type": "code",
        "colab": {}
      },
      "source": [
        "y_train = np_utils.to_categorical(y_train,10)\n",
        "y_test = np_utils.to_categorical(y_test,10)"
      ],
      "execution_count": 33,
      "outputs": []
    },
    {
      "cell_type": "code",
      "metadata": {
        "id": "LQv_V0k8fw9R",
        "colab_type": "code",
        "colab": {
          "base_uri": "https://localhost:8080/",
          "height": 737
        },
        "outputId": "1d171d73-63da-46bc-bcf9-ebd21a524fe7"
      },
      "source": [
        "# SGD + Optimzer \n",
        "model = Sequential()\n",
        "model.add(Dense(output_dim, input_dim = input_dim,  activation ='softmax'))\n",
        "model.compile(optimizer='sgd', loss ='categorical_crossentropy', metrics=['accuracy'])\n",
        "model.fit(x_train, y_train, batch_size=batch_size, epochs=nb_epoch, verbose=1, validation_data=(x_test, y_test))"
      ],
      "execution_count": 49,
      "outputs": [
        {
          "output_type": "stream",
          "text": [
            "Epoch 1/20\n",
            "469/469 [==============================] - 1s 2ms/step - loss: 1.2934 - accuracy: 0.6927 - val_loss: 0.8119 - val_accuracy: 0.8366\n",
            "Epoch 2/20\n",
            "469/469 [==============================] - 1s 2ms/step - loss: 0.7169 - accuracy: 0.8408 - val_loss: 0.6066 - val_accuracy: 0.8643\n",
            "Epoch 3/20\n",
            "469/469 [==============================] - 1s 2ms/step - loss: 0.5872 - accuracy: 0.8592 - val_loss: 0.5251 - val_accuracy: 0.8730\n",
            "Epoch 4/20\n",
            "469/469 [==============================] - 1s 2ms/step - loss: 0.5255 - accuracy: 0.8686 - val_loss: 0.4798 - val_accuracy: 0.8815\n",
            "Epoch 5/20\n",
            "469/469 [==============================] - 1s 2ms/step - loss: 0.4880 - accuracy: 0.8745 - val_loss: 0.4506 - val_accuracy: 0.8851\n",
            "Epoch 6/20\n",
            "469/469 [==============================] - 1s 2ms/step - loss: 0.4621 - accuracy: 0.8795 - val_loss: 0.4294 - val_accuracy: 0.8893\n",
            "Epoch 7/20\n",
            "469/469 [==============================] - 1s 2ms/step - loss: 0.4431 - accuracy: 0.8835 - val_loss: 0.4135 - val_accuracy: 0.8924\n",
            "Epoch 8/20\n",
            "469/469 [==============================] - 1s 2ms/step - loss: 0.4282 - accuracy: 0.8862 - val_loss: 0.4006 - val_accuracy: 0.8945\n",
            "Epoch 9/20\n",
            "469/469 [==============================] - 1s 2ms/step - loss: 0.4162 - accuracy: 0.8886 - val_loss: 0.3903 - val_accuracy: 0.8966\n",
            "Epoch 10/20\n",
            "469/469 [==============================] - 1s 2ms/step - loss: 0.4062 - accuracy: 0.8910 - val_loss: 0.3819 - val_accuracy: 0.8984\n",
            "Epoch 11/20\n",
            "469/469 [==============================] - 1s 2ms/step - loss: 0.3977 - accuracy: 0.8926 - val_loss: 0.3745 - val_accuracy: 0.9004\n",
            "Epoch 12/20\n",
            "469/469 [==============================] - 1s 2ms/step - loss: 0.3904 - accuracy: 0.8940 - val_loss: 0.3680 - val_accuracy: 0.9018\n",
            "Epoch 13/20\n",
            "469/469 [==============================] - 1s 2ms/step - loss: 0.3841 - accuracy: 0.8953 - val_loss: 0.3626 - val_accuracy: 0.9037\n",
            "Epoch 14/20\n",
            "469/469 [==============================] - 1s 2ms/step - loss: 0.3784 - accuracy: 0.8967 - val_loss: 0.3573 - val_accuracy: 0.9054\n",
            "Epoch 15/20\n",
            "469/469 [==============================] - 1s 2ms/step - loss: 0.3734 - accuracy: 0.8978 - val_loss: 0.3530 - val_accuracy: 0.9060\n",
            "Epoch 16/20\n",
            "469/469 [==============================] - 1s 2ms/step - loss: 0.3688 - accuracy: 0.8989 - val_loss: 0.3496 - val_accuracy: 0.9063\n",
            "Epoch 17/20\n",
            "469/469 [==============================] - 1s 2ms/step - loss: 0.3648 - accuracy: 0.8997 - val_loss: 0.3458 - val_accuracy: 0.9067\n",
            "Epoch 18/20\n",
            "469/469 [==============================] - 1s 2ms/step - loss: 0.3610 - accuracy: 0.9006 - val_loss: 0.3425 - val_accuracy: 0.9079\n",
            "Epoch 19/20\n",
            "469/469 [==============================] - 1s 2ms/step - loss: 0.3576 - accuracy: 0.9018 - val_loss: 0.3394 - val_accuracy: 0.9081\n",
            "Epoch 20/20\n",
            "469/469 [==============================] - 1s 2ms/step - loss: 0.3544 - accuracy: 0.9026 - val_loss: 0.3367 - val_accuracy: 0.9086\n"
          ],
          "name": "stdout"
        },
        {
          "output_type": "execute_result",
          "data": {
            "text/plain": [
              "<tensorflow.python.keras.callbacks.History at 0x7f0ddfe8df98>"
            ]
          },
          "metadata": {
            "tags": []
          },
          "execution_count": 49
        }
      ]
    },
    {
      "cell_type": "code",
      "metadata": {
        "id": "V1mNZOFimqYT",
        "colab_type": "code",
        "colab": {
          "base_uri": "https://localhost:8080/",
          "height": 966
        },
        "outputId": "64b19df3-6e41-4810-8add-b5861e975ef4"
      },
      "source": [
        "model_sigmoid = Sequential()\n",
        "model_sigmoid.add(Dense(512, activation='sigmoid', input_dim=input_dim,))\n",
        "model_sigmoid.add(Dense(128, activation='sigmoid'))\n",
        "model_sigmoid.add(Dense(output_dim, activation = 'softmax'))"
      ],
      "execution_count": 50,
      "outputs": [
        {
          "output_type": "stream",
          "text": [
            "Epoch 1/20\n",
            "469/469 [==============================] - 4s 9ms/step - loss: 2.2732 - accuracy: 0.1943 - val_loss: 2.2265 - val_accuracy: 0.5073\n",
            "Epoch 2/20\n",
            "469/469 [==============================] - 4s 9ms/step - loss: 2.1841 - accuracy: 0.4676 - val_loss: 2.1292 - val_accuracy: 0.6053\n",
            "Epoch 3/20\n",
            "469/469 [==============================] - 4s 9ms/step - loss: 2.0708 - accuracy: 0.6004 - val_loss: 1.9927 - val_accuracy: 0.6485\n",
            "Epoch 4/20\n",
            "469/469 [==============================] - 4s 9ms/step - loss: 1.9097 - accuracy: 0.6592 - val_loss: 1.7991 - val_accuracy: 0.6797\n",
            "Epoch 5/20\n",
            "469/469 [==============================] - 4s 9ms/step - loss: 1.6963 - accuracy: 0.6951 - val_loss: 1.5629 - val_accuracy: 0.7134\n",
            "Epoch 6/20\n",
            "469/469 [==============================] - 4s 9ms/step - loss: 1.4581 - accuracy: 0.7237 - val_loss: 1.3273 - val_accuracy: 0.7488\n",
            "Epoch 7/20\n",
            "469/469 [==============================] - 4s 9ms/step - loss: 1.2411 - accuracy: 0.7526 - val_loss: 1.1290 - val_accuracy: 0.7846\n",
            "Epoch 8/20\n",
            "469/469 [==============================] - 4s 9ms/step - loss: 1.0697 - accuracy: 0.7776 - val_loss: 0.9813 - val_accuracy: 0.7914\n",
            "Epoch 9/20\n",
            "469/469 [==============================] - 4s 8ms/step - loss: 0.9413 - accuracy: 0.7947 - val_loss: 0.8697 - val_accuracy: 0.8144\n",
            "Epoch 10/20\n",
            "469/469 [==============================] - 4s 8ms/step - loss: 0.8440 - accuracy: 0.8090 - val_loss: 0.7851 - val_accuracy: 0.8288\n",
            "Epoch 11/20\n",
            "469/469 [==============================] - 4s 9ms/step - loss: 0.7686 - accuracy: 0.8219 - val_loss: 0.7187 - val_accuracy: 0.8346\n",
            "Epoch 12/20\n",
            "469/469 [==============================] - 4s 9ms/step - loss: 0.7085 - accuracy: 0.8311 - val_loss: 0.6652 - val_accuracy: 0.8460\n",
            "Epoch 13/20\n",
            "469/469 [==============================] - 4s 9ms/step - loss: 0.6601 - accuracy: 0.8393 - val_loss: 0.6210 - val_accuracy: 0.8492\n",
            "Epoch 14/20\n",
            "469/469 [==============================] - 4s 9ms/step - loss: 0.6201 - accuracy: 0.8463 - val_loss: 0.5845 - val_accuracy: 0.8561\n",
            "Epoch 15/20\n",
            "469/469 [==============================] - 4s 8ms/step - loss: 0.5868 - accuracy: 0.8523 - val_loss: 0.5543 - val_accuracy: 0.8618\n",
            "Epoch 16/20\n",
            "469/469 [==============================] - 4s 8ms/step - loss: 0.5588 - accuracy: 0.8581 - val_loss: 0.5282 - val_accuracy: 0.8654\n",
            "Epoch 17/20\n",
            "469/469 [==============================] - 4s 8ms/step - loss: 0.5348 - accuracy: 0.8627 - val_loss: 0.5061 - val_accuracy: 0.8693\n",
            "Epoch 18/20\n",
            "469/469 [==============================] - 4s 8ms/step - loss: 0.5143 - accuracy: 0.8666 - val_loss: 0.4872 - val_accuracy: 0.8720\n",
            "Epoch 19/20\n",
            "469/469 [==============================] - 4s 9ms/step - loss: 0.4964 - accuracy: 0.8702 - val_loss: 0.4712 - val_accuracy: 0.8757\n",
            "Epoch 20/20\n",
            "469/469 [==============================] - 4s 8ms/step - loss: 0.4807 - accuracy: 0.8734 - val_loss: 0.4565 - val_accuracy: 0.8805\n",
            "Model: \"sequential_30\"\n",
            "_________________________________________________________________\n",
            "Layer (type)                 Output Shape              Param #   \n",
            "=================================================================\n",
            "dense_49 (Dense)             (None, 512)               401920    \n",
            "_________________________________________________________________\n",
            "dense_50 (Dense)             (None, 128)               65664     \n",
            "_________________________________________________________________\n",
            "dense_51 (Dense)             (None, 10)                1290      \n",
            "=================================================================\n",
            "Total params: 468,874\n",
            "Trainable params: 468,874\n",
            "Non-trainable params: 0\n",
            "_________________________________________________________________\n"
          ],
          "name": "stdout"
        }
      ]
    },
    {
      "cell_type": "code",
      "metadata": {
        "id": "Pxi96ndttk8K",
        "colab_type": "code",
        "colab": {
          "base_uri": "https://localhost:8080/",
          "height": 966
        },
        "outputId": "0705d807-e713-472f-f8f6-2b0314f508c4"
      },
      "source": [
        "model_sigmoid.compile(optimizer='sgd', loss = 'categorical_crossentropy', metrics=['accuracy'] )\n",
        "model_sigmoid.fit(x_train, y_train, batch_size=batch_size, epochs=nb_epoch, verbose=1, validation_data=(x_test, y_test))\n",
        "model_sigmoid.summary()"
      ],
      "execution_count": 51,
      "outputs": [
        {
          "output_type": "stream",
          "text": [
            "Epoch 1/20\n",
            "469/469 [==============================] - 5s 11ms/step - loss: 0.4669 - accuracy: 0.8764 - val_loss: 0.4436 - val_accuracy: 0.8821\n",
            "Epoch 2/20\n",
            "469/469 [==============================] - 4s 9ms/step - loss: 0.4547 - accuracy: 0.8783 - val_loss: 0.4323 - val_accuracy: 0.8844\n",
            "Epoch 3/20\n",
            "469/469 [==============================] - 4s 9ms/step - loss: 0.4438 - accuracy: 0.8806 - val_loss: 0.4221 - val_accuracy: 0.8858\n",
            "Epoch 4/20\n",
            "469/469 [==============================] - 4s 9ms/step - loss: 0.4340 - accuracy: 0.8820 - val_loss: 0.4133 - val_accuracy: 0.8863\n",
            "Epoch 5/20\n",
            "469/469 [==============================] - 4s 9ms/step - loss: 0.4252 - accuracy: 0.8838 - val_loss: 0.4054 - val_accuracy: 0.8890\n",
            "Epoch 6/20\n",
            "469/469 [==============================] - 4s 9ms/step - loss: 0.4171 - accuracy: 0.8865 - val_loss: 0.3976 - val_accuracy: 0.8895\n",
            "Epoch 7/20\n",
            "469/469 [==============================] - 4s 9ms/step - loss: 0.4099 - accuracy: 0.8877 - val_loss: 0.3912 - val_accuracy: 0.8918\n",
            "Epoch 8/20\n",
            "469/469 [==============================] - 4s 8ms/step - loss: 0.4033 - accuracy: 0.8891 - val_loss: 0.3844 - val_accuracy: 0.8933\n",
            "Epoch 9/20\n",
            "469/469 [==============================] - 4s 9ms/step - loss: 0.3969 - accuracy: 0.8905 - val_loss: 0.3790 - val_accuracy: 0.8935\n",
            "Epoch 10/20\n",
            "469/469 [==============================] - 4s 9ms/step - loss: 0.3914 - accuracy: 0.8913 - val_loss: 0.3737 - val_accuracy: 0.8953\n",
            "Epoch 11/20\n",
            "469/469 [==============================] - 4s 9ms/step - loss: 0.3862 - accuracy: 0.8923 - val_loss: 0.3694 - val_accuracy: 0.8960\n",
            "Epoch 12/20\n",
            "469/469 [==============================] - 4s 9ms/step - loss: 0.3813 - accuracy: 0.8936 - val_loss: 0.3644 - val_accuracy: 0.8975\n",
            "Epoch 13/20\n",
            "469/469 [==============================] - 4s 9ms/step - loss: 0.3768 - accuracy: 0.8942 - val_loss: 0.3602 - val_accuracy: 0.8983\n",
            "Epoch 14/20\n",
            "469/469 [==============================] - 4s 9ms/step - loss: 0.3725 - accuracy: 0.8950 - val_loss: 0.3565 - val_accuracy: 0.8976\n",
            "Epoch 15/20\n",
            "469/469 [==============================] - 4s 9ms/step - loss: 0.3688 - accuracy: 0.8953 - val_loss: 0.3527 - val_accuracy: 0.9003\n",
            "Epoch 16/20\n",
            "469/469 [==============================] - 4s 9ms/step - loss: 0.3650 - accuracy: 0.8965 - val_loss: 0.3493 - val_accuracy: 0.9012\n",
            "Epoch 17/20\n",
            "469/469 [==============================] - 4s 8ms/step - loss: 0.3614 - accuracy: 0.8970 - val_loss: 0.3460 - val_accuracy: 0.9007\n",
            "Epoch 18/20\n",
            "469/469 [==============================] - 4s 9ms/step - loss: 0.3581 - accuracy: 0.8978 - val_loss: 0.3428 - val_accuracy: 0.9018\n",
            "Epoch 19/20\n",
            "469/469 [==============================] - 4s 8ms/step - loss: 0.3550 - accuracy: 0.8985 - val_loss: 0.3405 - val_accuracy: 0.9021\n",
            "Epoch 20/20\n",
            "469/469 [==============================] - 4s 9ms/step - loss: 0.3519 - accuracy: 0.8992 - val_loss: 0.3375 - val_accuracy: 0.9030\n",
            "Model: \"sequential_30\"\n",
            "_________________________________________________________________\n",
            "Layer (type)                 Output Shape              Param #   \n",
            "=================================================================\n",
            "dense_49 (Dense)             (None, 512)               401920    \n",
            "_________________________________________________________________\n",
            "dense_50 (Dense)             (None, 128)               65664     \n",
            "_________________________________________________________________\n",
            "dense_51 (Dense)             (None, 10)                1290      \n",
            "=================================================================\n",
            "Total params: 468,874\n",
            "Trainable params: 468,874\n",
            "Non-trainable params: 0\n",
            "_________________________________________________________________\n"
          ],
          "name": "stdout"
        }
      ]
    },
    {
      "cell_type": "code",
      "metadata": {
        "id": "bDtYb9dLwQR1",
        "colab_type": "code",
        "colab": {
          "base_uri": "https://localhost:8080/",
          "height": 966
        },
        "outputId": "10318b70-96d1-4356-c477-c8aeca9cfa8c"
      },
      "source": [
        "# MLP + Sigmoid Activation + ADAM\n",
        "model_sigmoid.compile(optimizer='adam', loss = 'categorical_crossentropy', metrics=['accuracy'] )\n",
        "model_sigmoid.fit(x_train, y_train, batch_size=batch_size, epochs=nb_epoch, verbose=1, validation_data=(x_test, y_test))\n",
        "model_sigmoid.summary()"
      ],
      "execution_count": 52,
      "outputs": [
        {
          "output_type": "stream",
          "text": [
            "Epoch 1/20\n",
            "469/469 [==============================] - 5s 10ms/step - loss: 0.2979 - accuracy: 0.9124 - val_loss: 0.2403 - val_accuracy: 0.9296\n",
            "Epoch 2/20\n",
            "469/469 [==============================] - 4s 9ms/step - loss: 0.2133 - accuracy: 0.9375 - val_loss: 0.1830 - val_accuracy: 0.9443\n",
            "Epoch 3/20\n",
            "469/469 [==============================] - 4s 9ms/step - loss: 0.1606 - accuracy: 0.9527 - val_loss: 0.1567 - val_accuracy: 0.9531\n",
            "Epoch 4/20\n",
            "469/469 [==============================] - 4s 9ms/step - loss: 0.1266 - accuracy: 0.9625 - val_loss: 0.1328 - val_accuracy: 0.9601\n",
            "Epoch 5/20\n",
            "469/469 [==============================] - 4s 9ms/step - loss: 0.1024 - accuracy: 0.9690 - val_loss: 0.1042 - val_accuracy: 0.9686\n",
            "Epoch 6/20\n",
            "469/469 [==============================] - 4s 9ms/step - loss: 0.0817 - accuracy: 0.9761 - val_loss: 0.1004 - val_accuracy: 0.9708\n",
            "Epoch 7/20\n",
            "469/469 [==============================] - 4s 9ms/step - loss: 0.0665 - accuracy: 0.9801 - val_loss: 0.0864 - val_accuracy: 0.9727\n",
            "Epoch 8/20\n",
            "469/469 [==============================] - 4s 9ms/step - loss: 0.0561 - accuracy: 0.9830 - val_loss: 0.0839 - val_accuracy: 0.9748\n",
            "Epoch 9/20\n",
            "469/469 [==============================] - 4s 9ms/step - loss: 0.0448 - accuracy: 0.9864 - val_loss: 0.0826 - val_accuracy: 0.9746\n",
            "Epoch 10/20\n",
            "469/469 [==============================] - 4s 9ms/step - loss: 0.0365 - accuracy: 0.9893 - val_loss: 0.0692 - val_accuracy: 0.9791\n",
            "Epoch 11/20\n",
            "469/469 [==============================] - 4s 9ms/step - loss: 0.0309 - accuracy: 0.9908 - val_loss: 0.0724 - val_accuracy: 0.9784\n",
            "Epoch 12/20\n",
            "469/469 [==============================] - 4s 9ms/step - loss: 0.0246 - accuracy: 0.9931 - val_loss: 0.0704 - val_accuracy: 0.9803\n",
            "Epoch 13/20\n",
            "469/469 [==============================] - 4s 9ms/step - loss: 0.0201 - accuracy: 0.9947 - val_loss: 0.0704 - val_accuracy: 0.9789\n",
            "Epoch 14/20\n",
            "469/469 [==============================] - 4s 9ms/step - loss: 0.0167 - accuracy: 0.9955 - val_loss: 0.0693 - val_accuracy: 0.9805\n",
            "Epoch 15/20\n",
            "469/469 [==============================] - 5s 10ms/step - loss: 0.0131 - accuracy: 0.9969 - val_loss: 0.0768 - val_accuracy: 0.9779\n",
            "Epoch 16/20\n",
            "469/469 [==============================] - 4s 10ms/step - loss: 0.0106 - accuracy: 0.9975 - val_loss: 0.0744 - val_accuracy: 0.9787\n",
            "Epoch 17/20\n",
            "469/469 [==============================] - 4s 9ms/step - loss: 0.0087 - accuracy: 0.9980 - val_loss: 0.0727 - val_accuracy: 0.9805\n",
            "Epoch 18/20\n",
            "469/469 [==============================] - 4s 9ms/step - loss: 0.0066 - accuracy: 0.9987 - val_loss: 0.0721 - val_accuracy: 0.9803\n",
            "Epoch 19/20\n",
            "469/469 [==============================] - 4s 9ms/step - loss: 0.0056 - accuracy: 0.9988 - val_loss: 0.0770 - val_accuracy: 0.9793\n",
            "Epoch 20/20\n",
            "469/469 [==============================] - 4s 9ms/step - loss: 0.0050 - accuracy: 0.9990 - val_loss: 0.0776 - val_accuracy: 0.9793\n",
            "Model: \"sequential_30\"\n",
            "_________________________________________________________________\n",
            "Layer (type)                 Output Shape              Param #   \n",
            "=================================================================\n",
            "dense_49 (Dense)             (None, 512)               401920    \n",
            "_________________________________________________________________\n",
            "dense_50 (Dense)             (None, 128)               65664     \n",
            "_________________________________________________________________\n",
            "dense_51 (Dense)             (None, 10)                1290      \n",
            "=================================================================\n",
            "Total params: 468,874\n",
            "Trainable params: 468,874\n",
            "Non-trainable params: 0\n",
            "_________________________________________________________________\n"
          ],
          "name": "stdout"
        }
      ]
    },
    {
      "cell_type": "code",
      "metadata": {
        "id": "WL6PNkqVxOQm",
        "colab_type": "code",
        "colab": {
          "base_uri": "https://localhost:8080/",
          "height": 737
        },
        "outputId": "8ed9dab1-5132-420b-cfaa-44b35394e1b1"
      },
      "source": [
        "# MLP + RELU + SGD\n",
        "from keras.initializers import RandomNormal\n",
        "model_sigmoid = Sequential()\n",
        "model_sigmoid.add(Dense(512, activation='relu', kernel_initializer=RandomNormal(mean=0.0, stddev=0.125, seed=None), input_dim=input_dim,))\n",
        "model_sigmoid.add(Dense(128, activation='relu'))\n",
        "model_sigmoid.add(Dense(output_dim, activation = 'softmax'))\n",
        "model_sigmoid.compile(optimizer='sgd', loss = 'categorical_crossentropy', metrics=['accuracy'] )\n",
        "model_sigmoid.fit(x_train, y_train, batch_size=batch_size, epochs=nb_epoch, verbose=1, validation_data=(x_test, y_test))"
      ],
      "execution_count": 60,
      "outputs": [
        {
          "output_type": "stream",
          "text": [
            "Epoch 1/20\n",
            "469/469 [==============================] - 4s 9ms/step - loss: 0.8337 - accuracy: 0.7694 - val_loss: 0.4396 - val_accuracy: 0.8764\n",
            "Epoch 2/20\n",
            "469/469 [==============================] - 4s 9ms/step - loss: 0.4013 - accuracy: 0.8865 - val_loss: 0.3419 - val_accuracy: 0.9009\n",
            "Epoch 3/20\n",
            "469/469 [==============================] - 4s 9ms/step - loss: 0.3318 - accuracy: 0.9049 - val_loss: 0.2951 - val_accuracy: 0.9154\n",
            "Epoch 4/20\n",
            "469/469 [==============================] - 4s 9ms/step - loss: 0.2948 - accuracy: 0.9149 - val_loss: 0.2712 - val_accuracy: 0.9221\n",
            "Epoch 5/20\n",
            "469/469 [==============================] - 4s 9ms/step - loss: 0.2696 - accuracy: 0.9225 - val_loss: 0.2493 - val_accuracy: 0.9279\n",
            "Epoch 6/20\n",
            "469/469 [==============================] - 4s 8ms/step - loss: 0.2503 - accuracy: 0.9280 - val_loss: 0.2363 - val_accuracy: 0.9319\n",
            "Epoch 7/20\n",
            "469/469 [==============================] - 4s 9ms/step - loss: 0.2347 - accuracy: 0.9326 - val_loss: 0.2224 - val_accuracy: 0.9356\n",
            "Epoch 8/20\n",
            "469/469 [==============================] - 4s 9ms/step - loss: 0.2212 - accuracy: 0.9367 - val_loss: 0.2115 - val_accuracy: 0.9387\n",
            "Epoch 9/20\n",
            "469/469 [==============================] - 4s 8ms/step - loss: 0.2099 - accuracy: 0.9406 - val_loss: 0.2028 - val_accuracy: 0.9416\n",
            "Epoch 10/20\n",
            "469/469 [==============================] - 4s 9ms/step - loss: 0.1999 - accuracy: 0.9425 - val_loss: 0.1945 - val_accuracy: 0.9433\n",
            "Epoch 11/20\n",
            "469/469 [==============================] - 4s 9ms/step - loss: 0.1911 - accuracy: 0.9455 - val_loss: 0.1868 - val_accuracy: 0.9466\n",
            "Epoch 12/20\n",
            "469/469 [==============================] - 4s 9ms/step - loss: 0.1828 - accuracy: 0.9480 - val_loss: 0.1818 - val_accuracy: 0.9464\n",
            "Epoch 13/20\n",
            "469/469 [==============================] - 4s 9ms/step - loss: 0.1756 - accuracy: 0.9498 - val_loss: 0.1742 - val_accuracy: 0.9480\n",
            "Epoch 14/20\n",
            "469/469 [==============================] - 4s 8ms/step - loss: 0.1688 - accuracy: 0.9518 - val_loss: 0.1695 - val_accuracy: 0.9495\n",
            "Epoch 15/20\n",
            "469/469 [==============================] - 4s 9ms/step - loss: 0.1623 - accuracy: 0.9534 - val_loss: 0.1649 - val_accuracy: 0.9516\n",
            "Epoch 16/20\n",
            "469/469 [==============================] - 4s 9ms/step - loss: 0.1567 - accuracy: 0.9555 - val_loss: 0.1598 - val_accuracy: 0.9520\n",
            "Epoch 17/20\n",
            "469/469 [==============================] - 4s 9ms/step - loss: 0.1514 - accuracy: 0.9574 - val_loss: 0.1558 - val_accuracy: 0.9539\n",
            "Epoch 18/20\n",
            "469/469 [==============================] - 4s 8ms/step - loss: 0.1464 - accuracy: 0.9590 - val_loss: 0.1532 - val_accuracy: 0.9551\n",
            "Epoch 19/20\n",
            "469/469 [==============================] - 4s 9ms/step - loss: 0.1417 - accuracy: 0.9605 - val_loss: 0.1480 - val_accuracy: 0.9555\n",
            "Epoch 20/20\n",
            "469/469 [==============================] - 4s 8ms/step - loss: 0.1373 - accuracy: 0.9618 - val_loss: 0.1445 - val_accuracy: 0.9568\n"
          ],
          "name": "stdout"
        },
        {
          "output_type": "execute_result",
          "data": {
            "text/plain": [
              "<tensorflow.python.keras.callbacks.History at 0x7f0dd7896be0>"
            ]
          },
          "metadata": {
            "tags": []
          },
          "execution_count": 60
        }
      ]
    },
    {
      "cell_type": "code",
      "metadata": {
        "id": "AP_CxvCuybt4",
        "colab_type": "code",
        "colab": {
          "base_uri": "https://localhost:8080/",
          "height": 1000
        },
        "outputId": "9b6ad9ed-b6e5-4d05-f96f-a3b5adc6bc04"
      },
      "source": [
        "# Batch Normalization & Dropout\n",
        "from keras.layers.normalization import BatchNormalization\n",
        "from keras.layers import Dropout\n",
        "model_sigmoid = Sequential()\n",
        "model_sigmoid.add(Dense(512, activation='sigmoid', input_dim=input_dim,))\n",
        "model_sigmoid.add(BatchNormalization())\n",
        "model_sigmoid.add(Dropout(0.5))\n",
        "model_sigmoid.add(Dense(128, activation='sigmoid'))\n",
        "model_sigmoid.add(BatchNormalization())\n",
        "model_sigmoid.add(Dropout(0.5))\n",
        "model_sigmoid.add(Dense(output_dim, activation = 'softmax'))\n",
        "model_sigmoid.compile(optimizer='sgd', loss = 'categorical_crossentropy', metrics=['accuracy'] )\n",
        "model_sigmoid.fit(x_train, y_train, batch_size=batch_size, epochs=nb_epoch, verbose=1, validation_data=(x_test, y_test))\n",
        "model_sigmoid.summary()\n"
      ],
      "execution_count": 65,
      "outputs": [
        {
          "output_type": "stream",
          "text": [
            "Epoch 1/20\n",
            "469/469 [==============================] - 7s 15ms/step - loss: 0.8677 - accuracy: 0.7311 - val_loss: 0.3774 - val_accuracy: 0.8990\n",
            "Epoch 2/20\n",
            "469/469 [==============================] - 7s 14ms/step - loss: 0.5494 - accuracy: 0.8318 - val_loss: 0.3196 - val_accuracy: 0.9071\n",
            "Epoch 3/20\n",
            "469/469 [==============================] - 7s 15ms/step - loss: 0.4890 - accuracy: 0.8522 - val_loss: 0.3050 - val_accuracy: 0.9132\n",
            "Epoch 4/20\n",
            "469/469 [==============================] - 5s 11ms/step - loss: 0.4556 - accuracy: 0.8640 - val_loss: 0.2940 - val_accuracy: 0.9153\n",
            "Epoch 5/20\n",
            "469/469 [==============================] - 5s 11ms/step - loss: 0.4326 - accuracy: 0.8710 - val_loss: 0.2871 - val_accuracy: 0.9188\n",
            "Epoch 6/20\n",
            "469/469 [==============================] - 5s 11ms/step - loss: 0.4212 - accuracy: 0.8735 - val_loss: 0.2813 - val_accuracy: 0.9186\n",
            "Epoch 7/20\n",
            "469/469 [==============================] - 5s 11ms/step - loss: 0.4028 - accuracy: 0.8807 - val_loss: 0.2747 - val_accuracy: 0.9206\n",
            "Epoch 8/20\n",
            "469/469 [==============================] - 5s 11ms/step - loss: 0.3957 - accuracy: 0.8826 - val_loss: 0.2701 - val_accuracy: 0.9216\n",
            "Epoch 9/20\n",
            "469/469 [==============================] - 5s 11ms/step - loss: 0.3843 - accuracy: 0.8860 - val_loss: 0.2664 - val_accuracy: 0.9208\n",
            "Epoch 10/20\n",
            "469/469 [==============================] - 5s 11ms/step - loss: 0.3785 - accuracy: 0.8877 - val_loss: 0.2629 - val_accuracy: 0.9238\n",
            "Epoch 11/20\n",
            "469/469 [==============================] - 5s 12ms/step - loss: 0.3700 - accuracy: 0.8909 - val_loss: 0.2596 - val_accuracy: 0.9241\n",
            "Epoch 12/20\n",
            "469/469 [==============================] - 5s 12ms/step - loss: 0.3678 - accuracy: 0.8912 - val_loss: 0.2556 - val_accuracy: 0.9255\n",
            "Epoch 13/20\n",
            "469/469 [==============================] - 5s 12ms/step - loss: 0.3587 - accuracy: 0.8917 - val_loss: 0.2531 - val_accuracy: 0.9259\n",
            "Epoch 14/20\n",
            "469/469 [==============================] - 5s 11ms/step - loss: 0.3530 - accuracy: 0.8958 - val_loss: 0.2499 - val_accuracy: 0.9285\n",
            "Epoch 15/20\n",
            "469/469 [==============================] - 5s 11ms/step - loss: 0.3504 - accuracy: 0.8959 - val_loss: 0.2475 - val_accuracy: 0.9277\n",
            "Epoch 16/20\n",
            "469/469 [==============================] - 5s 12ms/step - loss: 0.3463 - accuracy: 0.8982 - val_loss: 0.2440 - val_accuracy: 0.9293\n",
            "Epoch 17/20\n",
            "469/469 [==============================] - 5s 11ms/step - loss: 0.3430 - accuracy: 0.8984 - val_loss: 0.2434 - val_accuracy: 0.9292\n",
            "Epoch 18/20\n",
            "469/469 [==============================] - 5s 11ms/step - loss: 0.3387 - accuracy: 0.8996 - val_loss: 0.2397 - val_accuracy: 0.9308\n",
            "Epoch 19/20\n",
            "469/469 [==============================] - 5s 11ms/step - loss: 0.3340 - accuracy: 0.9026 - val_loss: 0.2377 - val_accuracy: 0.9307\n",
            "Epoch 20/20\n",
            "469/469 [==============================] - 5s 11ms/step - loss: 0.3295 - accuracy: 0.9035 - val_loss: 0.2357 - val_accuracy: 0.9306\n",
            "Model: \"sequential_40\"\n",
            "_________________________________________________________________\n",
            "Layer (type)                 Output Shape              Param #   \n",
            "=================================================================\n",
            "dense_73 (Dense)             (None, 512)               401920    \n",
            "_________________________________________________________________\n",
            "batch_normalization_6 (Batch (None, 512)               2048      \n",
            "_________________________________________________________________\n",
            "dropout (Dropout)            (None, 512)               0         \n",
            "_________________________________________________________________\n",
            "dense_74 (Dense)             (None, 128)               65664     \n",
            "_________________________________________________________________\n",
            "batch_normalization_7 (Batch (None, 128)               512       \n",
            "_________________________________________________________________\n",
            "dropout_1 (Dropout)          (None, 128)               0         \n",
            "_________________________________________________________________\n",
            "dense_75 (Dense)             (None, 10)                1290      \n",
            "=================================================================\n",
            "Total params: 471,434\n",
            "Trainable params: 470,154\n",
            "Non-trainable params: 1,280\n",
            "_________________________________________________________________\n"
          ],
          "name": "stdout"
        }
      ]
    }
  ]
}